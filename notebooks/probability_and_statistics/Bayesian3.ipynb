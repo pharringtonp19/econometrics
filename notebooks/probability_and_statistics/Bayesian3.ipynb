{
  "nbformat": 4,
  "nbformat_minor": 0,
  "metadata": {
    "colab": {
      "provenance": [],
      "collapsed_sections": [
        "PyB635NXDIh3"
      ],
      "authorship_tag": "ABX9TyPAe7CwoXPf0io8sf18ZS8S",
      "include_colab_link": true
    },
    "kernelspec": {
      "name": "python3",
      "display_name": "Python 3"
    },
    "language_info": {
      "name": "python"
    }
  },
  "cells": [
    {
      "cell_type": "markdown",
      "metadata": {
        "id": "view-in-github",
        "colab_type": "text"
      },
      "source": [
        "<a href=\"https://colab.research.google.com/github/pharringtonp19/econometrics/blob/main/notebooks/probability_and_statistics/Bayesian3.ipynb\" target=\"_parent\"><img src=\"https://colab.research.google.com/assets/colab-badge.svg\" alt=\"Open In Colab\"/></a>"
      ]
    },
    {
      "cell_type": "code",
      "execution_count": 3,
      "metadata": {
        "id": "zlwbJA35LhaQ"
      },
      "outputs": [],
      "source": [
        "#@title **Install Modules** { display-mode: \"form\" }\n",
        "%%capture \n",
        "!pip install oryx"
      ]
    },
    {
      "cell_type": "code",
      "source": [
        "#@title **Imports** { display-mode: \"form\" }\n",
        "import jax \n",
        "import jax.numpy as jnp \n",
        "from oryx.core.ppl import random_variable\n",
        "from tensorflow_probability.substrates import jax as tfp\n",
        "tfd = tfp.distributions\n",
        "import matplotlib.pyplot as plt\n",
        "from functools import partial \n",
        "from oryx.core.ppl import log_prob"
      ],
      "metadata": {
        "id": "rQ4TzFvtL5Xh"
      },
      "execution_count": 4,
      "outputs": []
    },
    {
      "cell_type": "markdown",
      "source": [
        "### **The Bayesian Random Experiment**\n",
        "\n",
        "The first thing to understand about the Bayesian Random Experiment is that the probability measure is **known**!\n",
        "\n",
        "$$\\Big(\\Omega_n \\times \\Theta, \\mathcal{F}, \\mathbb{P}_n \\Big)$$\n",
        "where \n",
        "\n",
        "$$z := (\\omega_n, \\theta) \\longmapsto \\ \\mathbb{P}_n(z):= \\mathbb{P}_{\\textrm{rior}}(\\theta)\\mathbb{L}_{ikelihood}(\\omega_n \\mid \\theta) $$"
      ],
      "metadata": {
        "id": "9Rg35M_rC7XL"
      }
    },
    {
      "cell_type": "code",
      "source": [
        "#@title **code** { display-mode: \"form\" }\n",
        "def pre_random_experiment(n, key):\n",
        "  k1, k2 = jax.random.split(key)\n",
        "  posterior_distribution = random_variable(tfd.Uniform(low=0., high=1.))\n",
        "  param = posterior_distribution(k1)\n",
        "  predictive_distribution = random_variable(tfd.Binomial(total_count=n, probs=param))\n",
        "  outcome = predictive_distribution(k2)\n",
        "  return param, outcome \n",
        "\n",
        "random_experiment_n = partial(pre_random_experiment, 10)"
      ],
      "metadata": {
        "id": "W8H7AFvO06RL"
      },
      "execution_count": 24,
      "outputs": []
    },
    {
      "cell_type": "markdown",
      "source": [
        "### **Radon Nikodym Theorem**"
      ],
      "metadata": {
        "id": "DoGrsQJICyaH"
      }
    },
    {
      "cell_type": "markdown",
      "source": [
        "### **Simulations**"
      ],
      "metadata": {
        "id": "PyB635NXDIh3"
      }
    },
    {
      "cell_type": "code",
      "source": [
        "z = random_experiment_n(jax.random.PRNGKey(1))\n",
        "print(z)"
      ],
      "metadata": {
        "colab": {
          "base_uri": "https://localhost:8080/"
        },
        "id": "e8KyP-egApi_",
        "outputId": "ce62a5af-2147-47e3-a906-8fc73d70a752"
      },
      "execution_count": 25,
      "outputs": [
        {
          "output_type": "stream",
          "name": "stdout",
          "text": [
            "(DeviceArray(0.12462091, dtype=float32), DeviceArray(0., dtype=float32))\n"
          ]
        }
      ]
    }
  ]
}