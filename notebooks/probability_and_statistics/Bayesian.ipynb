{
  "nbformat": 4,
  "nbformat_minor": 0,
  "metadata": {
    "colab": {
      "provenance": [],
      "authorship_tag": "ABX9TyPhlYO1Ob9feeoEY0e0DvtE",
      "include_colab_link": true
    },
    "kernelspec": {
      "name": "python3",
      "display_name": "Python 3"
    },
    "language_info": {
      "name": "python"
    }
  },
  "cells": [
    {
      "cell_type": "markdown",
      "metadata": {
        "id": "view-in-github",
        "colab_type": "text"
      },
      "source": [
        "<a href=\"https://colab.research.google.com/github/pharringtonp19/econometrics/blob/main/notebooks/probability_and_statistics/Bayesian.ipynb\" target=\"_parent\"><img src=\"https://colab.research.google.com/assets/colab-badge.svg\" alt=\"Open In Colab\"/></a>"
      ]
    },
    {
      "cell_type": "code",
      "execution_count": 1,
      "metadata": {
        "id": "zlwbJA35LhaQ"
      },
      "outputs": [],
      "source": [
        "%%capture \n",
        "!pip install oryx"
      ]
    },
    {
      "cell_type": "code",
      "source": [
        "import jax \n",
        "import jax.numpy as jnp \n",
        "from oryx.core.ppl import random_variable\n",
        "from tensorflow_probability.substrates import jax as tfp\n",
        "tfd = tfp.distributions\n",
        "import matplotlib.pyplot as plt\n",
        "from functools import partial "
      ],
      "metadata": {
        "id": "rQ4TzFvtL5Xh"
      },
      "execution_count": 31,
      "outputs": []
    },
    {
      "cell_type": "code",
      "source": [
        "def Dist_Alpha(key): \n",
        "  return random_variable(tfd.Normal(loc=0., scale=1.))(key)\n",
        "\n",
        "def Dist_Beta(key): \n",
        "  return random_variable(tfd.Normal(loc=0., scale=1.))(key)"
      ],
      "metadata": {
        "id": "iZpvuiojNib6"
      },
      "execution_count": 32,
      "outputs": []
    },
    {
      "cell_type": "code",
      "source": [
        "def features(key, mu, cov):\n",
        "  \"\"\"Cluster Specific Effects\n",
        "  - We would like to make this infinite dimensional!\n",
        "  \"\"\"\n",
        "  return random_variable(tfd.MultivariateNormalFullCovariance(loc=mu, covariance_matrix=cov))(key)"
      ],
      "metadata": {
        "id": "sw01tJeGQYbw"
      },
      "execution_count": 33,
      "outputs": []
    },
    {
      "cell_type": "code",
      "source": [
        "features(jax.random.PRNGKey(0), jnp.zeros(2), jnp.eye(2))"
      ],
      "metadata": {
        "colab": {
          "base_uri": "https://localhost:8080/"
        },
        "id": "U8IFagGsRVWH",
        "outputId": "262fcfa5-7564-48c0-d47e-10903bd849a9"
      },
      "execution_count": 34,
      "outputs": [
        {
          "output_type": "execute_result",
          "data": {
            "text/plain": [
              "DeviceArray([-0.78476596,  0.85644484], dtype=float32)"
            ]
          },
          "metadata": {},
          "execution_count": 34
        }
      ]
    },
    {
      "cell_type": "code",
      "source": [
        "zs = jax.vmap(partial(features, mu=jnp.zeros(2), cov=jnp.eye(2)))(jax.random.split(jax.random.PRNGKey(0), 10000))\n",
        "plt.scatter(zs[:,0], zs[:,1]);"
      ],
      "metadata": {
        "colab": {
          "base_uri": "https://localhost:8080/",
          "height": 265
        },
        "id": "XjoI8AL6QDf0",
        "outputId": "f69a1673-fad9-4216-a1b7-b3a0a2727683"
      },
      "execution_count": 35,
      "outputs": [
        {
          "output_type": "display_data",
          "data": {
            "text/plain": [
              "<Figure size 432x288 with 1 Axes>"
            ],
            "image/png": "[encoded data removed]"
          },
          "metadata": {
            "needs_background": "light"
          }
        }
      ]
    },
    {
      "cell_type": "code",
      "source": [],
      "metadata": {
        "id": "gPMREW6OPxuO"
      },
      "execution_count": null,
      "outputs": []
    }
  ]
}