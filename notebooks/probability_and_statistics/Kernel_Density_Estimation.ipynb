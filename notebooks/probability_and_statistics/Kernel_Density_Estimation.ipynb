{
  "nbformat": 4,
  "nbformat_minor": 0,
  "metadata": {
    "colab": {
      "provenance": [],
      "authorship_tag": "ABX9TyN8LlUX/U8jMgKFIW0/QbTe",
      "include_colab_link": true
    },
    "kernelspec": {
      "name": "python3",
      "display_name": "Python 3"
    },
    "language_info": {
      "name": "python"
    }
  },
  "cells": [
    {
      "cell_type": "markdown",
      "metadata": {
        "id": "view-in-github",
        "colab_type": "text"
      },
      "source": [
        "<a href=\"https://colab.research.google.com/github/pharringtonp19/econometrics/blob/main/notebooks/probability_and_statistics/Kernel_Density_Estimation.ipynb\" target=\"_parent\"><img src=\"https://colab.research.google.com/assets/colab-badge.svg\" alt=\"Open In Colab\"/></a>"
      ]
    },
    {
      "cell_type": "code",
      "execution_count": 1,
      "metadata": {
        "id": "eAhdo-T0Dyn6"
      },
      "outputs": [],
      "source": [
        "%%capture \n",
        "!pip install oryx"
      ]
    },
    {
      "cell_type": "code",
      "source": [
        "import jax \n",
        "import jax.numpy as jnp \n",
        "import oryx \n",
        "from oryx.core.ppl import random_variable\n",
        "from tensorflow_probability.substrates import jax as tfp\n",
        "tfd = tfp.distributions\n",
        "from functools import partial "
      ],
      "metadata": {
        "id": "ysaR3Ow0E3E2"
      },
      "execution_count": 7,
      "outputs": []
    },
    {
      "cell_type": "code",
      "source": [
        "def X(key):\n",
        "  return random_variable(tfd.Normal(0., 1.))(key)"
      ],
      "metadata": {
        "id": "iR-v7-IeFAua"
      },
      "execution_count": 4,
      "outputs": []
    },
    {
      "cell_type": "code",
      "source": [
        "def ecdf(x, keys):\n",
        "  xs = jax.vmap(X)(keys)\n",
        "  ys = jax.vmap(lambda z: jnp.where(z<=x, 1.0, 0.))(xs)\n",
        "  return jnp.mean(ys)"
      ],
      "metadata": {
        "id": "VYJ9tHqaEZlb"
      },
      "execution_count": 12,
      "outputs": []
    },
    {
      "cell_type": "code",
      "source": [
        "n_rvs = 100 \n",
        "init_key = jax.random.PRNGKey(0)\n",
        "keys = jax.random.split(init_key, n_rvs)\n",
        "ecdf(0., keys)"
      ],
      "metadata": {
        "colab": {
          "base_uri": "https://localhost:8080/"
        },
        "id": "YkqzCkdvFfMp",
        "outputId": "83f64276-02b8-4ec3-eaa2-5d8f5f32b749"
      },
      "execution_count": 15,
      "outputs": [
        {
          "output_type": "execute_result",
          "data": {
            "text/plain": [
              "DeviceArray(0.51, dtype=float32)"
            ]
          },
          "metadata": {},
          "execution_count": 15
        }
      ]
    },
    {
      "cell_type": "code",
      "source": [],
      "metadata": {
        "id": "ZSIAhtmRFxGj"
      },
      "execution_count": 13,
      "outputs": []
    }
  ]
}