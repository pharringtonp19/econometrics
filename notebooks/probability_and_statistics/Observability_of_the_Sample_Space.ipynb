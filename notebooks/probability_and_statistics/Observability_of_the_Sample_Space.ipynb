{
  "nbformat": 4,
  "nbformat_minor": 0,
  "metadata": {
    "colab": {
      "provenance": [],
      "collapsed_sections": [
        "PyB635NXDIh3"
      ],
      "authorship_tag": "ABX9TyNPhpqRGgIYYFEUa7PE6ujn",
      "include_colab_link": true
    },
    "kernelspec": {
      "name": "python3",
      "display_name": "Python 3"
    },
    "language_info": {
      "name": "python"
    }
  },
  "cells": [
    {
      "cell_type": "markdown",
      "metadata": {
        "id": "view-in-github",
        "colab_type": "text"
      },
      "source": [
        "<a href=\"https://colab.research.google.com/github/pharringtonp19/econometrics/blob/main/notebooks/probability_and_statistics/Observability_of_the_Sample_Space.ipynb\" target=\"_parent\"><img src=\"https://colab.research.google.com/assets/colab-badge.svg\" alt=\"Open In Colab\"/></a>"
      ]
    },
    {
      "cell_type": "code",
      "execution_count": 1,
      "metadata": {
        "id": "zlwbJA35LhaQ"
      },
      "outputs": [],
      "source": [
        "#@title **Install Modules** { display-mode: \"form\" }\n",
        "%%capture \n",
        "!pip install oryx"
      ]
    },
    {
      "cell_type": "code",
      "source": [
        "#@title **Imports** { display-mode: \"form\" }\n",
        "import jax \n",
        "import jax.numpy as jnp \n",
        "from oryx.core.ppl import random_variable\n",
        "from tensorflow_probability.substrates import jax as tfp\n",
        "tfd = tfp.distributions\n",
        "import matplotlib.pyplot as plt\n",
        "from functools import partial \n",
        "from oryx.core.ppl import log_prob"
      ],
      "metadata": {
        "id": "rQ4TzFvtL5Xh"
      },
      "execution_count": 2,
      "outputs": []
    },
    {
      "cell_type": "markdown",
      "source": [
        "### **The Sample Space**\n",
        "\n",
        "Depending on how we define the sample space, an element of the sample space may not be fully observed. \n",
        "\n",
        "$$\\Big(\\Omega, \\mathcal{F}, \\mathbb{P}_n \\Big)$$\n",
        "where \n",
        "\n",
        "$$\\omega := (y, x, ɛ) $$"
      ],
      "metadata": {
        "id": "9Rg35M_rC7XL"
      }
    },
    {
      "cell_type": "code",
      "source": [
        "#@title **code** { display-mode: \"form\" }\n",
        "def random_experiment_params(a, b, sigma, key):\n",
        "  k1, k2 = jax.random.split(key)\n",
        "  x = random_variable(tfd.Uniform(low=0., high=1.))(k1)\n",
        "  e = random_variable(tfd.Normal(loc=0.0, scale=sigma))(k2) # Not observed!\n",
        "  y = a + b*x + e\n",
        "  return y, x, e\n",
        "\n",
        "def prior_params(key): \n",
        "  \"\"\"Not Observed\"\"\"\n",
        "  k1, k2, k3 = jax.random.split(key, 3)\n",
        "  a = random_variable(tfd.Normal(loc=0., scale=10.))(k1)\n",
        "  b = random_variable(tfd.Uniform(low=0., high=1.))(k2)\n",
        "  sigma = random_variable(tfd.Uniform(low=0., high=10.))(k3)\n",
        "  return a, b, sigma \n",
        "\n",
        "def random_experiment(key): \n",
        "  k1, k2 = jax.random.split(key)\n",
        "  a, b, sigma = prior_params(k1)\n",
        "  y, x, e = random_experiment_params(a, b, sigma, k2)\n",
        "  return y, x, e, a, b, sigma "
      ],
      "metadata": {
        "id": "W8H7AFvO06RL"
      },
      "execution_count": 15,
      "outputs": []
    },
    {
      "cell_type": "code",
      "source": [
        "random_experiment(jax.random.PRNGKey(0))"
      ],
      "metadata": {
        "colab": {
          "base_uri": "https://localhost:8080/"
        },
        "id": "HZ3hw9cUPLz7",
        "outputId": "cb54f5c0-a514-4f1d-ee74-fbce121490e4"
      },
      "execution_count": 16,
      "outputs": [
        {
          "output_type": "stream",
          "name": "stdout",
          "text": [
            "-10.181946 0.101477385 8.981076\n"
          ]
        },
        {
          "output_type": "execute_result",
          "data": {
            "text/plain": [
              "(DeviceArray(1.379816, dtype=float32),\n",
              " DeviceArray(0.941118, dtype=float32),\n",
              " DeviceArray(11.46626, dtype=float32),\n",
              " DeviceArray(-10.181946, dtype=float32),\n",
              " DeviceArray(0.10147738, dtype=float32),\n",
              " DeviceArray(8.981076, dtype=float32))"
            ]
          },
          "metadata": {},
          "execution_count": 16
        }
      ]
    },
    {
      "cell_type": "code",
      "source": [],
      "metadata": {
        "id": "Lntae3CERf9B"
      },
      "execution_count": 8,
      "outputs": []
    },
    {
      "cell_type": "code",
      "source": [],
      "metadata": {
        "id": "E6W11w7-Ry_u"
      },
      "execution_count": null,
      "outputs": []
    }
  ]
}