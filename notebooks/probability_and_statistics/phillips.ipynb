{
  "cells": [
    {
      "cell_type": "markdown",
      "metadata": {
        "id": "cEuSeoD2EP7b"
      },
      "source": [
        "<a href=\"https://colab.research.google.com/github/pharringtonp19/econometrics/blob/main/notebooks/probability_and_statistics/phillips.ipynb\" target=\"_parent\"><img src=\"https://colab.research.google.com/assets/colab-badge.svg\" alt=\"Open In Colab\"/></a>"
      ]
    },
    {
      "cell_type": "markdown",
      "metadata": {
        "id": "GGurHvTHEP7c"
      },
      "source": [
        "#### **Import Libraries**"
      ]
    },
    {
      "cell_type": "code",
      "execution_count": 12,
      "metadata": {
        "id": "QC4MEBTREP7c"
      },
      "outputs": [],
      "source": [
        "import jax\n",
        "import jax.numpy as jnp\n",
        "from functools import partial"
      ]
    },
    {
      "cell_type": "markdown",
      "metadata": {
        "id": "pztdrPi2EP7d"
      },
      "source": [
        "#### **Helper Functions**"
      ]
    },
    {
      "cell_type": "code",
      "execution_count": 13,
      "metadata": {
        "id": "jfcV8x-wEP7d"
      },
      "outputs": [],
      "source": [
        "def dgp(fstage, key):\n",
        "    k1, k2, k3 = jax.random.split(key, 3)\n",
        "    z = jax.random.bernoulli(k1).astype('float')\n",
        "    d = jax.random.bernoulli(k2, p=jnp.where(z==1., fstage, 0.0)).astype('float')\n",
        "    y = 1*d + 0.1*jax.random.normal(k3)\n",
        "    return z, d, y\n",
        "\n",
        "def sample(init_key, fstage, n):\n",
        "    return  jax.vmap(partial(dgp, fstage))(jax.random.split(init_key, n))\n",
        "\n",
        "def fwl(X, D, Y):\n",
        "    coeffsD = jnp.linalg.lstsq(X, D, rcond=None)[0]\n",
        "    dhat = X @ coeffsD\n",
        "    resD = D - dhat\n",
        "    coeffsY = jnp.linalg.lstsq(resD, Y, rcond=None)[0][0]\n",
        "    return coeffsY\n",
        "\n",
        "def fst_stage(X, Z, D):\n",
        "    regs = jnp.hstack([Z, X])\n",
        "    coeffs = jnp.linalg.lstsq(regs, D, rcond=None)[0]\n",
        "    Dhat = regs @ coeffs\n",
        "    return Dhat\n",
        "\n",
        "def estimate(init_key, fstage, n):\n",
        "    zs, ds, ys = sample(init_key, fstage, n)\n",
        "    dhat = fst_stage(jnp.ones_like(zs).reshape(-1,1),zs.reshape(-1,1), ds.reshape(-1,1))\n",
        "    return fwl(jnp.ones_like(ds).reshape(-1,1),dhat, ys.reshape(-1,1))"
      ]
    },
    {
      "cell_type": "markdown",
      "metadata": {
        "id": "_q-lJfGuEP7d"
      },
      "source": [
        "#### **Parameters**"
      ]
    },
    {
      "cell_type": "code",
      "execution_count": 14,
      "metadata": {
        "id": "A2EinmCjEP7d"
      },
      "outputs": [],
      "source": [
        "init_key = jax.random.PRNGKey(0)\n",
        "n_sims = 1000"
      ]
    },
    {
      "cell_type": "markdown",
      "metadata": {
        "id": "OK0JWIsWEP7d"
      },
      "source": [
        "#### **Perfect Compliance**"
      ]
    },
    {
      "cell_type": "code",
      "execution_count": 15,
      "metadata": {
        "id": "Xe0ajmKsEP7e",
        "outputId": "9d37d644-c2ce-48a8-fa7f-5eef18e2fba7",
        "colab": {
          "base_uri": "https://localhost:8080/"
        }
      },
      "outputs": [
        {
          "output_type": "stream",
          "name": "stdout",
          "text": [
            "Mean: 0.9990527629852295\n",
            "Std: 0.016402436420321465\n"
          ]
        },
        {
          "output_type": "stream",
          "name": "stderr",
          "text": [
            "/usr/local/lib/python3.10/dist-packages/jax/_src/numpy/array_methods.py:66: UserWarning: Explicitly requested dtype float requested in astype is not available, and will be truncated to dtype float32. To enable more dtypes, set the jax_enable_x64 configuration option or the JAX_ENABLE_X64 shell environment variable. See https://github.com/google/jax#current-gotchas for more.\n",
            "  return lax_numpy.astype(arr, dtype)\n"
          ]
        }
      ],
      "source": [
        "n_obs = 144\n",
        "compliance = jax.vmap(partial(estimate, fstage=1., n=n_obs))(jax.random.split(init_key, n_sims))\n",
        "print(f\"Mean: {jnp.mean(compliance)}\\nStd: {jnp.std(compliance)}\")"
      ]
    },
    {
      "cell_type": "markdown",
      "metadata": {
        "id": "yFW6A1FmEP7e"
      },
      "source": [
        "##### **Imperfect Compliance**"
      ]
    },
    {
      "cell_type": "code",
      "execution_count": 18,
      "metadata": {
        "id": "gOAGe-2BEP7e",
        "outputId": "976d6dbc-73fa-418f-99b4-ad5302c83635",
        "colab": {
          "base_uri": "https://localhost:8080/"
        }
      },
      "outputs": [
        {
          "output_type": "stream",
          "name": "stdout",
          "text": [
            "Mean: 1.0010396242141724\n",
            "Std: 0.12306595593690872\n"
          ]
        }
      ],
      "source": [
        "n_obs = 250\n",
        "partial_compliance = jax.vmap(partial(estimate, fstage=0.12, n=n_obs))(jax.random.split(init_key, n_sims))\n",
        "print(f\"Mean: {jnp.mean(partial_compliance)}\\nStd: {jnp.std(partial_compliance)}\")"
      ]
    },
    {
      "cell_type": "code",
      "execution_count": 16,
      "metadata": {
        "id": "3kpBuvb0EP7e"
      },
      "outputs": [],
      "source": []
    }
  ],
  "metadata": {
    "kernelspec": {
      "display_name": "evict_env",
      "language": "python",
      "name": "python3"
    },
    "language_info": {
      "codemirror_mode": {
        "name": "ipython",
        "version": 3
      },
      "file_extension": ".py",
      "mimetype": "text/x-python",
      "name": "python",
      "nbconvert_exporter": "python",
      "pygments_lexer": "ipython3",
      "version": "3.10.0"
    },
    "orig_nbformat": 4,
    "colab": {
      "provenance": []
    }
  },
  "nbformat": 4,
  "nbformat_minor": 0
}