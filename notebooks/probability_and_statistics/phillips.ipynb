{
 "cells": [
  {
   "attachments": {},
   "cell_type": "markdown",
   "metadata": {},
   "source": [
    "<a href=\"https://colab.research.google.com/github/pharringtonp19/econometrics/blob/main/notebooks/probability_and_statistics/phillips.ipynb\" target=\"_parent\"><img src=\"https://colab.research.google.com/assets/colab-badge.svg\" alt=\"Open In Colab\"/></a>"
   ]
  },
  {
   "attachments": {},
   "cell_type": "markdown",
   "metadata": {},
   "source": [
    "#### **Import Libraries**"
   ]
  },
  {
   "cell_type": "code",
   "execution_count": 1,
   "metadata": {},
   "outputs": [],
   "source": [
    "import jax \n",
    "import jax.numpy as jnp \n",
    "from functools import partial "
   ]
  },
  {
   "attachments": {},
   "cell_type": "markdown",
   "metadata": {},
   "source": [
    "#### **Helper Functions**"
   ]
  },
  {
   "cell_type": "code",
   "execution_count": 13,
   "metadata": {},
   "outputs": [],
   "source": [
    "def dgp1(key):\n",
    "    k1, k2 = jax.random.split(key)\n",
    "    d = jax.random.bernoulli(k1).astype('float')\n",
    "    y = 1*d + 0.5*jax.random.normal(k2)\n",
    "    return d, y\n",
    "\n",
    "def dgp2(key):\n",
    "    k1, k2, k3 = jax.random.split(key, 3)\n",
    "    z = jax.random.bernoulli(k1).astype('float')\n",
    "    d = jax.random.bernoulli(k2, p=0.4 + 0.12*z).astype('float')\n",
    "    y = 1*d + 0.5*jax.random.normal(k3)\n",
    "    return z, d, y\n",
    "\n",
    "def sample(init_key, dgp, n):\n",
    "    return  jax.vmap(dgp)(jax.random.split(init_key, n))\n",
    "\n",
    "\n",
    "def fwl(X, D, Y):\n",
    "    coeffsD = jnp.linalg.lstsq(X, D, rcond=None)[0]\n",
    "    dhat = X @ coeffsD\n",
    "    resD = D - dhat\n",
    "    coeffsY = jnp.linalg.lstsq(resD, Y, rcond=None)[0][0]\n",
    "    return coeffsY\n",
    "\n",
    "def compliance_est(init_key, n):\n",
    "    ds, ys = sample(init_key, dgp1, n)\n",
    "    return fwl(jnp.ones_like(ds).reshape(-1,1), ds.reshape(-1,1), ys.reshape(-1,1))\n",
    "\n",
    "def fst_stage(X, Z, D): \n",
    "    regs = jnp.hstack([Z, X])\n",
    "    coeffs = jnp.linalg.lstsq(regs, D, rcond=None)[0]\n",
    "    Dhat = regs @ coeffs\n",
    "    return Dhat\n",
    "\n",
    "def partial_compliance_est(init_key, n):\n",
    "    zs, ds, ys = sample(init_key, dgp2, n)\n",
    "    dhat = fst_stage(jnp.ones_like(zs).reshape(-1,1),zs.reshape(-1,1), ds.reshape(-1,1))\n",
    "    return fwl(jnp.ones_like(ds).reshape(-1,1),dhat, ys.reshape(-1,1))"
   ]
  },
  {
   "attachments": {},
   "cell_type": "markdown",
   "metadata": {},
   "source": [
    "#### **Parameters**"
   ]
  },
  {
   "cell_type": "code",
   "execution_count": 14,
   "metadata": {},
   "outputs": [],
   "source": [
    "init_key = jax.random.PRNGKey(0)\n",
    "n_sims = 1000 "
   ]
  },
  {
   "attachments": {},
   "cell_type": "markdown",
   "metadata": {},
   "source": [
    "#### **Perfect Compliance**"
   ]
  },
  {
   "cell_type": "code",
   "execution_count": 15,
   "metadata": {},
   "outputs": [
    {
     "name": "stdout",
     "output_type": "stream",
     "text": [
      "Mean: 1.000201940536499\n",
      "Std: 0.08543296903371811\n"
     ]
    },
    {
     "name": "stderr",
     "output_type": "stream",
     "text": [
      "/Users/ppower1/.pyenv/versions/3.10.0/envs/evict_env/lib/python3.10/site-packages/jax/_src/numpy/array_methods.py:733: UserWarning: Explicitly requested dtype float requested in astype is not available, and will be truncated to dtype float32. To enable more dtypes, set the jax_enable_x64 configuration option or the JAX_ENABLE_X64 shell environment variable. See https://github.com/google/jax#current-gotchas for more.\n",
      "  return getattr(self.aval, name).fun(self, *args, **kwargs)\n"
     ]
    }
   ],
   "source": [
    "n_obs = 144\n",
    "compliance = jax.vmap(partial(compliance_est, n=n_obs))(jax.random.split(init_key, n_sims))\n",
    "print(f\"Mean: {jnp.mean(compliance)}\\nStd: {jnp.std(compliance)}\")"
   ]
  },
  {
   "attachments": {},
   "cell_type": "markdown",
   "metadata": {},
   "source": [
    "##### **Imperfect Compliance**"
   ]
  },
  {
   "cell_type": "code",
   "execution_count": 17,
   "metadata": {},
   "outputs": [
    {
     "name": "stdout",
     "output_type": "stream",
     "text": [
      "Mean: 1.0019097328186035\n",
      "Std: 0.08531661331653595\n"
     ]
    }
   ],
   "source": [
    "n_obs = 10_000\n",
    "partial_compliance = jax.vmap(partial(partial_compliance_est, n=n_obs))(jax.random.split(init_key, n_sims))\n",
    "print(f\"Mean: {jnp.mean(partial_compliance)}\\nStd: {jnp.std(partial_compliance)}\")"
   ]
  },
  {
   "cell_type": "code",
   "execution_count": null,
   "metadata": {},
   "outputs": [],
   "source": []
  }
 ],
 "metadata": {
  "kernelspec": {
   "display_name": "evict_env",
   "language": "python",
   "name": "python3"
  },
  "language_info": {
   "codemirror_mode": {
    "name": "ipython",
    "version": 3
   },
   "file_extension": ".py",
   "mimetype": "text/x-python",
   "name": "python",
   "nbconvert_exporter": "python",
   "pygments_lexer": "ipython3",
   "version": "3.10.0"
  },
  "orig_nbformat": 4
 },
 "nbformat": 4,
 "nbformat_minor": 2
}
