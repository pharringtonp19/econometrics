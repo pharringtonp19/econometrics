{
  "nbformat": 4,
  "nbformat_minor": 0,
  "metadata": {
    "colab": {
      "provenance": [],
      "authorship_tag": "ABX9TyPNvVSocjNYxxMQmC1ajDL5",
      "include_colab_link": true
    },
    "kernelspec": {
      "name": "python3",
      "display_name": "Python 3"
    },
    "language_info": {
      "name": "python"
    }
  },
  "cells": [
    {
      "cell_type": "markdown",
      "metadata": {
        "id": "view-in-github",
        "colab_type": "text"
      },
      "source": [
        "<a href=\"https://colab.research.google.com/github/pharringtonp19/econometrics/blob/main/notebooks/approximation/kernels/Kernels_Modeling_Frameworks.ipynb\" target=\"_parent\"><img src=\"https://colab.research.google.com/assets/colab-badge.svg\" alt=\"Open In Colab\"/></a>"
      ]
    },
    {
      "cell_type": "code",
      "execution_count": 26,
      "metadata": {
        "id": "T_J-Pb6FkMiH"
      },
      "outputs": [],
      "source": [
        "%%capture \n",
        "!pip install tinygp \n",
        "!pip install flax \n",
        "!pip install optax "
      ]
    },
    {
      "cell_type": "markdown",
      "source": [
        "Copied from [TinyGP](https://tinygp.readthedocs.io/en/stable/tutorials/modeling.html)"
      ],
      "metadata": {
        "id": "jPv8Uvc4tIyh"
      }
    },
    {
      "cell_type": "code",
      "source": [
        "import jax \n",
        "import jax.numpy as jnp \n",
        "import matplotlib.pyplot as plt \n",
        "from tinygp import kernels, GaussianProcess \n",
        "import flax.linen as nn \n",
        "from flax.linen.initializers import zeros \n",
        "import optax "
      ],
      "metadata": {
        "id": "ab5BW-AYkU_8"
      },
      "execution_count": 27,
      "outputs": []
    },
    {
      "cell_type": "code",
      "source": [
        "init_key = jax.random.PRNGKey(0)\n",
        "subkey1, subkey2 = jax.random.split(init_key, 2)\n",
        "\n",
        "def f(x):\n",
        "  \"\"\"Function of Interest: maps x -> y\"\"\"\n",
        "  return 0.2 * (x - 5) + jnp.sin(3 * x + 0.1 * (x - 5) ** 2)\n",
        "\n",
        "def dist1(key): \n",
        "  return jax.random.uniform(key, minval=0.0, maxval=3.8)\n",
        "\n",
        "def dist2(key): \n",
        "  return jax.random.uniform(key, minval=5.5, maxval=10.)\n",
        "\n",
        "def dist3(key): \n",
        "  return jax.random.uniform(key, minval=.08, maxval=.22)\n",
        "\n",
        "def dist4(key): \n",
        "  return jax.random.normal(key)\n",
        "\n",
        "def sample(key): \n",
        "  subkey1, subkey2, subkey3, subkey4 = jax.random.split(key, 4)\n",
        "  condition = jax.random.bernoulli(key, p = 18/(28+18))\n",
        "  x =  jax.lax.cond(condition, dist1, dist2, subkey2)\n",
        "  err = dist3(subkey3)\n",
        "  y = f(x) + err *dist4(subkey4)\n",
        "  return y, x, err"
      ],
      "metadata": {
        "colab": {
          "base_uri": "https://localhost:8080/"
        },
        "id": "OJIOsYXZp671",
        "outputId": "d293a868-59bf-4d7a-e925-0d78d986c1cc"
      },
      "execution_count": 41,
      "outputs": [
        {
          "output_type": "execute_result",
          "data": {
            "text/plain": [
              "(DeviceArray(-0.56983346, dtype=float32),\n",
              " DeviceArray(5.888079, dtype=float32),\n",
              " DeviceArray(0.21844266, dtype=float32))"
            ]
          },
          "metadata": {},
          "execution_count": 41
        }
      ]
    },
    {
      "cell_type": "code",
      "source": [
        "keys = jax.random.split(subkey1, 100) \n",
        "(ys, xs, errs) = jax.vmap(sample)(keys)\n",
        "\n",
        "true_xs = jnp.linspace(0., 10., 1000)\n",
        "true_ys = f(true_xs) \n",
        "\n",
        "plt.plot(true_xs, true_ys, \"k\", lw=1.5, alpha=0.3)\n",
        "plt.errorbar(xs, ys, yerr=errs, fmt=\".k\", capsize=0)\n",
        "plt.xlim(0, 10)\n",
        "plt.ylim(-2.5, 2.5)\n",
        "_ = plt.title(\"simulated data\")"
      ],
      "metadata": {
        "colab": {
          "base_uri": "https://localhost:8080/",
          "height": 281
        },
        "id": "Qe56dxsWp5Sa",
        "outputId": "aaa10030-da8a-4236-a434-19cec84a5219"
      },
      "execution_count": 51,
      "outputs": [
        {
          "output_type": "display_data",
          "data": {
            "text/plain": [
              "<Figure size 432x288 with 1 Axes>"
            ],
            "image/png": "[encoded data removed]"
          },
          "metadata": {
            "needs_background": "light"
          }
        }
      ]
    },
    {
      "cell_type": "code",
      "source": [
        "class GPModule(nn.Module): \n",
        "  @nn.compact \n",
        "  def __call__(self, x, yerr, y, t): \n",
        "    mean = self.param(\"mean\", zeros, ())\n",
        "    log_jitter = self.param(\"log_jitter\", zeros, ())\n",
        "    log_sigma1 = self.param(\"log_sigma1\", zeros, ())\n",
        "    log_rho1 = self.param(\"log_rho1\", zeros, ())\n",
        "    log_tau = self.param(\"log_tau\", zeros, ())\n",
        "    kernel1 = (\n",
        "        jnp.exp(2 * log_sigma1) * kernels.ExpSquared(jnp.exp(log_tau))\n",
        "        * kernels.Cosine(jnp.exp(log_rho1))\n",
        "    )"
      ],
      "metadata": {
        "id": "jL3Pfh1eofA8"
      },
      "execution_count": null,
      "outputs": []
    }
  ]
}