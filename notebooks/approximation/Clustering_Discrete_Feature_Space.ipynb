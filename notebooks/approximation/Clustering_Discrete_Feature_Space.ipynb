{
  "nbformat": 4,
  "nbformat_minor": 0,
  "metadata": {
    "colab": {
      "provenance": [],
      "authorship_tag": "ABX9TyNBb+PwFoS1CWnmLkRWqaON",
      "include_colab_link": true
    },
    "kernelspec": {
      "name": "python3",
      "display_name": "Python 3"
    },
    "language_info": {
      "name": "python"
    }
  },
  "cells": [
    {
      "cell_type": "markdown",
      "metadata": {
        "id": "view-in-github",
        "colab_type": "text"
      },
      "source": [
        "<a href=\"https://colab.research.google.com/github/pharringtonp19/econometrics/blob/main/notebooks/approximation/Clustering_Discrete_Feature_Space.ipynb\" target=\"_parent\"><img src=\"https://colab.research.google.com/assets/colab-badge.svg\" alt=\"Open In Colab\"/></a>"
      ]
    },
    {
      "cell_type": "code",
      "execution_count": 1,
      "metadata": {
        "id": "bm_lMrxtvyIB"
      },
      "outputs": [],
      "source": [
        "import jax \n",
        "import jax.numpy as jnp "
      ]
    },
    {
      "cell_type": "markdown",
      "source": [
        "Show 2D plot (iterating over sample size) of the relationship between the number of clusters and the number of bins "
      ],
      "metadata": {
        "id": "tvK8zVqVyyV4"
      }
    },
    {
      "cell_type": "code",
      "source": [
        "key = jax.random.PRNGKey(0)\n",
        "n_bins = 6"
      ],
      "metadata": {
        "colab": {
          "base_uri": "https://localhost:8080/"
        },
        "id": "8pv-YFudwBos",
        "outputId": "8cab155b-1870-4038-e4b7-38a05890865c"
      },
      "execution_count": 2,
      "outputs": [
        {
          "output_type": "stream",
          "name": "stderr",
          "text": [
            "WARNING:jax._src.lib.xla_bridge:No GPU/TPU found, falling back to CPU. (Set TF_CPP_MIN_LOG_LEVEL=0 and rerun for more info.)\n"
          ]
        }
      ]
    },
    {
      "cell_type": "code",
      "source": [
        "def mean_outcomes(key, n_bins):\n",
        "  return jax.random.normal(key, shape=(n_bins, 2))"
      ],
      "metadata": {
        "id": "frulm5Kyx_kL"
      },
      "execution_count": 7,
      "outputs": []
    },
    {
      "cell_type": "code",
      "source": [
        "def sample_cluster_mean_bin_outcomes(key, mean): \n",
        "  z = jax.random.normal(key, shape=mean.shape)\n",
        "  return z + mean"
      ],
      "metadata": {
        "id": "SqeOA8c_xht4"
      },
      "execution_count": 9,
      "outputs": []
    }
  ]
}